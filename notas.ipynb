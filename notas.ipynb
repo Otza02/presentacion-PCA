{
 "cells": [
  {
   "cell_type": "markdown",
   "id": "a369233f",
   "metadata": {},
   "source": [
    "Dada la matriz $X: n \\times p$\n",
    "\n",
    "buscamos proyectar los datos en un espacio de dimension $m < p$ mientras se maximiza la varianza de las proyecciones.\n",
    "Fig 12.2 Bishop (pag581)\n",
    "\n",
    "Empezamos con un ejemplo pequeño:\n",
    "\n",
    "Vamos a proyectar sobre un espacio de una dimension ($m = 1$), obtenemos un vector $u_1: 1 \\times p$ y buscamos que $u^T \\cdot u = 1$ (Vector unitario)"
   ]
  },
  {
   "cell_type": "markdown",
   "id": "a5fcd2e7",
   "metadata": {},
   "source": [
    "Cada proyeccion de $x_n$ se calcula <br>\n",
    "$$u^T \\cdot x_n$$\n",
    "\n",
    "La media de lo puntos proyectados es <br>\n",
    "$$u^T \\cdot \\bar{x}$$\n",
    "\n",
    "Por lo tanto la varianza de los datos proyectados es: <br>\n",
    "$$\n",
    "\\frac{1}{N} \\sum_{n=1}^{N}\\{ u^T \\cdot x_n - u^T \\cdot \\bar{x} \\} = u^T S u\n",
    "$$\n",
    "\n",
    "Donde $S$ es la matriz de covarianza definida por: <br>\n",
    "$$\n",
    "S = \\frac{1}{N} \\sum_{n=1}^{N}(x_n - \\bar{x}) (x_n - \\bar{x})^T\n",
    "$$"
   ]
  }
 ],
 "metadata": {
  "language_info": {
   "name": "python"
  }
 },
 "nbformat": 4,
 "nbformat_minor": 5
}
